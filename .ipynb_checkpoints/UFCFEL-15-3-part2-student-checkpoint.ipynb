{
 "cells": [
  {
   "cell_type": "markdown",
   "id": "e6e4ddad-165c-48d3-93e1-0451c3fa8c6c",
   "metadata": {},
   "source": [
    "<img src=\"http://www.cems.uwe.ac.uk/~pa-legg/images/uwe_banner.png\">\n",
    "\n",
    "# UFCFEL Security Data Analytics and Visualisation\n",
    "## Portfolio Assignment: Part 2\n",
    "### Academic year: 2023-24\n",
    "## Conduct a security investigation to examine and classify different malware characteristics\n",
    "---\n",
    "\n",
    "For this task, the company **UWEtech** have enlisted your support as a security data analyst once again. They believe they have found malware on some of their workstations; however they do not know what malware it is. They also believe that some machines may be infected with different kinds of malware. They have asked you to identify what malware is running on each of the contaminated machines, so that they may understand more about how this incident has occurred on their corporate network.\n",
    "\n",
    "**Dataset:** You will be issued a dataset for this task via GitLab: https://gitlab.uwe.ac.uk/pa-legg/sdav2023\n",
    "\n",
    "**This exercise carries a weight of 30% towards your overall portfolio submission**\n",
    "\n",
    "### Submission Documents\n",
    "---\n",
    "\n",
    "For Part 2 of your portfolio, your complete output file should be saved as:\n",
    "\n",
    "- **STUDENT_ID-PART2.ipynb**\n",
    "\n",
    "This should then be included in a ZIP file along with your other two portfolio documents.\n",
    "\n",
    "The deadline for your portfolio submission is **THURSDAY 11th JANUARY @ 14:00**. \n"
   ]
  },
  {
   "cell_type": "code",
   "execution_count": 1,
   "id": "abfd7e5e-0f36-4f2a-ab0a-2b4fb744c7e2",
   "metadata": {
    "tags": []
   },
   "outputs": [
    {
     "data": {
      "text/html": [
       "<div>\n",
       "<style scoped>\n",
       "    .dataframe tbody tr th:only-of-type {\n",
       "        vertical-align: middle;\n",
       "    }\n",
       "\n",
       "    .dataframe tbody tr th {\n",
       "        vertical-align: top;\n",
       "    }\n",
       "\n",
       "    .dataframe thead th {\n",
       "        text-align: right;\n",
       "    }\n",
       "</style>\n",
       "<table border=\"1\" class=\"dataframe\">\n",
       "  <thead>\n",
       "    <tr style=\"text-align: right;\">\n",
       "      <th></th>\n",
       "      <th>0</th>\n",
       "      <th>1</th>\n",
       "      <th>2</th>\n",
       "      <th>3</th>\n",
       "      <th>4</th>\n",
       "      <th>5</th>\n",
       "      <th>6</th>\n",
       "      <th>7</th>\n",
       "      <th>8</th>\n",
       "      <th>9</th>\n",
       "      <th>...</th>\n",
       "      <th>246</th>\n",
       "      <th>247</th>\n",
       "      <th>248</th>\n",
       "      <th>249</th>\n",
       "      <th>250</th>\n",
       "      <th>251</th>\n",
       "      <th>252</th>\n",
       "      <th>253</th>\n",
       "      <th>254</th>\n",
       "      <th>255</th>\n",
       "    </tr>\n",
       "  </thead>\n",
       "  <tbody>\n",
       "    <tr>\n",
       "      <th>0</th>\n",
       "      <td>224862.0</td>\n",
       "      <td>15842.0</td>\n",
       "      <td>12985.0</td>\n",
       "      <td>7387.0</td>\n",
       "      <td>13132.0</td>\n",
       "      <td>5112.0</td>\n",
       "      <td>8661.0</td>\n",
       "      <td>7990.0</td>\n",
       "      <td>14978.0</td>\n",
       "      <td>5656.0</td>\n",
       "      <td>...</td>\n",
       "      <td>3714.0</td>\n",
       "      <td>2892.0</td>\n",
       "      <td>9344.0</td>\n",
       "      <td>2415.0</td>\n",
       "      <td>2742.0</td>\n",
       "      <td>3023.0</td>\n",
       "      <td>11949.0</td>\n",
       "      <td>3662.0</td>\n",
       "      <td>5552.0</td>\n",
       "      <td>77433.0</td>\n",
       "    </tr>\n",
       "    <tr>\n",
       "      <th>1</th>\n",
       "      <td>21802.0</td>\n",
       "      <td>2127.0</td>\n",
       "      <td>2076.0</td>\n",
       "      <td>2028.0</td>\n",
       "      <td>1871.0</td>\n",
       "      <td>1622.0</td>\n",
       "      <td>1939.0</td>\n",
       "      <td>1502.0</td>\n",
       "      <td>2133.0</td>\n",
       "      <td>1689.0</td>\n",
       "      <td>...</td>\n",
       "      <td>1664.0</td>\n",
       "      <td>1607.0</td>\n",
       "      <td>1788.0</td>\n",
       "      <td>1394.0</td>\n",
       "      <td>1327.0</td>\n",
       "      <td>1453.0</td>\n",
       "      <td>1785.0</td>\n",
       "      <td>1559.0</td>\n",
       "      <td>1755.0</td>\n",
       "      <td>4882.0</td>\n",
       "    </tr>\n",
       "    <tr>\n",
       "      <th>2</th>\n",
       "      <td>24407.0</td>\n",
       "      <td>11682.0</td>\n",
       "      <td>7189.0</td>\n",
       "      <td>6538.0</td>\n",
       "      <td>7687.0</td>\n",
       "      <td>6848.0</td>\n",
       "      <td>4974.0</td>\n",
       "      <td>5377.0</td>\n",
       "      <td>7049.0</td>\n",
       "      <td>11642.0</td>\n",
       "      <td>...</td>\n",
       "      <td>5795.0</td>\n",
       "      <td>6053.0</td>\n",
       "      <td>6426.0</td>\n",
       "      <td>5435.0</td>\n",
       "      <td>4961.0</td>\n",
       "      <td>5026.0</td>\n",
       "      <td>5376.0</td>\n",
       "      <td>4180.0</td>\n",
       "      <td>5685.0</td>\n",
       "      <td>5775.0</td>\n",
       "    </tr>\n",
       "    <tr>\n",
       "      <th>3</th>\n",
       "      <td>7132.0</td>\n",
       "      <td>461.0</td>\n",
       "      <td>647.0</td>\n",
       "      <td>371.0</td>\n",
       "      <td>581.0</td>\n",
       "      <td>269.0</td>\n",
       "      <td>646.0</td>\n",
       "      <td>262.0</td>\n",
       "      <td>243.0</td>\n",
       "      <td>165.0</td>\n",
       "      <td>...</td>\n",
       "      <td>151.0</td>\n",
       "      <td>276.0</td>\n",
       "      <td>299.0</td>\n",
       "      <td>294.0</td>\n",
       "      <td>294.0</td>\n",
       "      <td>354.0</td>\n",
       "      <td>506.0</td>\n",
       "      <td>569.0</td>\n",
       "      <td>940.0</td>\n",
       "      <td>1516.0</td>\n",
       "    </tr>\n",
       "    <tr>\n",
       "      <th>4</th>\n",
       "      <td>5321.0</td>\n",
       "      <td>1108.0</td>\n",
       "      <td>985.0</td>\n",
       "      <td>955.0</td>\n",
       "      <td>958.0</td>\n",
       "      <td>890.0</td>\n",
       "      <td>971.0</td>\n",
       "      <td>919.0</td>\n",
       "      <td>945.0</td>\n",
       "      <td>963.0</td>\n",
       "      <td>...</td>\n",
       "      <td>933.0</td>\n",
       "      <td>975.0</td>\n",
       "      <td>945.0</td>\n",
       "      <td>924.0</td>\n",
       "      <td>879.0</td>\n",
       "      <td>952.0</td>\n",
       "      <td>956.0</td>\n",
       "      <td>900.0</td>\n",
       "      <td>942.0</td>\n",
       "      <td>1559.0</td>\n",
       "    </tr>\n",
       "    <tr>\n",
       "      <th>...</th>\n",
       "      <td>...</td>\n",
       "      <td>...</td>\n",
       "      <td>...</td>\n",
       "      <td>...</td>\n",
       "      <td>...</td>\n",
       "      <td>...</td>\n",
       "      <td>...</td>\n",
       "      <td>...</td>\n",
       "      <td>...</td>\n",
       "      <td>...</td>\n",
       "      <td>...</td>\n",
       "      <td>...</td>\n",
       "      <td>...</td>\n",
       "      <td>...</td>\n",
       "      <td>...</td>\n",
       "      <td>...</td>\n",
       "      <td>...</td>\n",
       "      <td>...</td>\n",
       "      <td>...</td>\n",
       "      <td>...</td>\n",
       "      <td>...</td>\n",
       "    </tr>\n",
       "    <tr>\n",
       "      <th>27995</th>\n",
       "      <td>23849.0</td>\n",
       "      <td>1489.0</td>\n",
       "      <td>1573.0</td>\n",
       "      <td>2649.0</td>\n",
       "      <td>1560.0</td>\n",
       "      <td>1025.0</td>\n",
       "      <td>922.0</td>\n",
       "      <td>1020.0</td>\n",
       "      <td>1042.0</td>\n",
       "      <td>938.0</td>\n",
       "      <td>...</td>\n",
       "      <td>993.0</td>\n",
       "      <td>968.0</td>\n",
       "      <td>1165.0</td>\n",
       "      <td>1041.0</td>\n",
       "      <td>1258.0</td>\n",
       "      <td>1753.0</td>\n",
       "      <td>1203.0</td>\n",
       "      <td>958.0</td>\n",
       "      <td>1315.0</td>\n",
       "      <td>4342.0</td>\n",
       "    </tr>\n",
       "    <tr>\n",
       "      <th>27996</th>\n",
       "      <td>9267.0</td>\n",
       "      <td>1056.0</td>\n",
       "      <td>981.0</td>\n",
       "      <td>930.0</td>\n",
       "      <td>1573.0</td>\n",
       "      <td>819.0</td>\n",
       "      <td>879.0</td>\n",
       "      <td>1064.0</td>\n",
       "      <td>1029.0</td>\n",
       "      <td>893.0</td>\n",
       "      <td>...</td>\n",
       "      <td>998.0</td>\n",
       "      <td>911.0</td>\n",
       "      <td>990.0</td>\n",
       "      <td>1039.0</td>\n",
       "      <td>930.0</td>\n",
       "      <td>833.0</td>\n",
       "      <td>904.0</td>\n",
       "      <td>891.0</td>\n",
       "      <td>976.0</td>\n",
       "      <td>2683.0</td>\n",
       "    </tr>\n",
       "    <tr>\n",
       "      <th>27997</th>\n",
       "      <td>25357.0</td>\n",
       "      <td>874.0</td>\n",
       "      <td>1008.0</td>\n",
       "      <td>2781.0</td>\n",
       "      <td>1518.0</td>\n",
       "      <td>939.0</td>\n",
       "      <td>4267.0</td>\n",
       "      <td>968.0</td>\n",
       "      <td>1103.0</td>\n",
       "      <td>1032.0</td>\n",
       "      <td>...</td>\n",
       "      <td>563.0</td>\n",
       "      <td>557.0</td>\n",
       "      <td>974.0</td>\n",
       "      <td>706.0</td>\n",
       "      <td>514.0</td>\n",
       "      <td>632.0</td>\n",
       "      <td>657.0</td>\n",
       "      <td>584.0</td>\n",
       "      <td>535.0</td>\n",
       "      <td>2431.0</td>\n",
       "    </tr>\n",
       "    <tr>\n",
       "      <th>27998</th>\n",
       "      <td>29010.0</td>\n",
       "      <td>6476.0</td>\n",
       "      <td>2969.0</td>\n",
       "      <td>5358.0</td>\n",
       "      <td>2827.0</td>\n",
       "      <td>4598.0</td>\n",
       "      <td>2172.0</td>\n",
       "      <td>4045.0</td>\n",
       "      <td>2496.0</td>\n",
       "      <td>3718.0</td>\n",
       "      <td>...</td>\n",
       "      <td>217.0</td>\n",
       "      <td>146.0</td>\n",
       "      <td>544.0</td>\n",
       "      <td>232.0</td>\n",
       "      <td>95.0</td>\n",
       "      <td>140.0</td>\n",
       "      <td>294.0</td>\n",
       "      <td>163.0</td>\n",
       "      <td>182.0</td>\n",
       "      <td>4005.0</td>\n",
       "    </tr>\n",
       "    <tr>\n",
       "      <th>27999</th>\n",
       "      <td>4956.0</td>\n",
       "      <td>185.0</td>\n",
       "      <td>74.0</td>\n",
       "      <td>92.0</td>\n",
       "      <td>133.0</td>\n",
       "      <td>94.0</td>\n",
       "      <td>56.0</td>\n",
       "      <td>46.0</td>\n",
       "      <td>145.0</td>\n",
       "      <td>93.0</td>\n",
       "      <td>...</td>\n",
       "      <td>50.0</td>\n",
       "      <td>61.0</td>\n",
       "      <td>810.0</td>\n",
       "      <td>1109.0</td>\n",
       "      <td>109.0</td>\n",
       "      <td>62.0</td>\n",
       "      <td>209.0</td>\n",
       "      <td>112.0</td>\n",
       "      <td>84.0</td>\n",
       "      <td>992.0</td>\n",
       "    </tr>\n",
       "  </tbody>\n",
       "</table>\n",
       "<p>28000 rows × 256 columns</p>\n",
       "</div>"
      ],
      "text/plain": [
       "            0        1        2       3        4       5       6       7    \\\n",
       "0      224862.0  15842.0  12985.0  7387.0  13132.0  5112.0  8661.0  7990.0   \n",
       "1       21802.0   2127.0   2076.0  2028.0   1871.0  1622.0  1939.0  1502.0   \n",
       "2       24407.0  11682.0   7189.0  6538.0   7687.0  6848.0  4974.0  5377.0   \n",
       "3        7132.0    461.0    647.0   371.0    581.0   269.0   646.0   262.0   \n",
       "4        5321.0   1108.0    985.0   955.0    958.0   890.0   971.0   919.0   \n",
       "...         ...      ...      ...     ...      ...     ...     ...     ...   \n",
       "27995   23849.0   1489.0   1573.0  2649.0   1560.0  1025.0   922.0  1020.0   \n",
       "27996    9267.0   1056.0    981.0   930.0   1573.0   819.0   879.0  1064.0   \n",
       "27997   25357.0    874.0   1008.0  2781.0   1518.0   939.0  4267.0   968.0   \n",
       "27998   29010.0   6476.0   2969.0  5358.0   2827.0  4598.0  2172.0  4045.0   \n",
       "27999    4956.0    185.0     74.0    92.0    133.0    94.0    56.0    46.0   \n",
       "\n",
       "           8        9    ...     246     247     248     249     250     251  \\\n",
       "0      14978.0   5656.0  ...  3714.0  2892.0  9344.0  2415.0  2742.0  3023.0   \n",
       "1       2133.0   1689.0  ...  1664.0  1607.0  1788.0  1394.0  1327.0  1453.0   \n",
       "2       7049.0  11642.0  ...  5795.0  6053.0  6426.0  5435.0  4961.0  5026.0   \n",
       "3        243.0    165.0  ...   151.0   276.0   299.0   294.0   294.0   354.0   \n",
       "4        945.0    963.0  ...   933.0   975.0   945.0   924.0   879.0   952.0   \n",
       "...        ...      ...  ...     ...     ...     ...     ...     ...     ...   \n",
       "27995   1042.0    938.0  ...   993.0   968.0  1165.0  1041.0  1258.0  1753.0   \n",
       "27996   1029.0    893.0  ...   998.0   911.0   990.0  1039.0   930.0   833.0   \n",
       "27997   1103.0   1032.0  ...   563.0   557.0   974.0   706.0   514.0   632.0   \n",
       "27998   2496.0   3718.0  ...   217.0   146.0   544.0   232.0    95.0   140.0   \n",
       "27999    145.0     93.0  ...    50.0    61.0   810.0  1109.0   109.0    62.0   \n",
       "\n",
       "           252     253     254      255  \n",
       "0      11949.0  3662.0  5552.0  77433.0  \n",
       "1       1785.0  1559.0  1755.0   4882.0  \n",
       "2       5376.0  4180.0  5685.0   5775.0  \n",
       "3        506.0   569.0   940.0   1516.0  \n",
       "4        956.0   900.0   942.0   1559.0  \n",
       "...        ...     ...     ...      ...  \n",
       "27995   1203.0   958.0  1315.0   4342.0  \n",
       "27996    904.0   891.0   976.0   2683.0  \n",
       "27997    657.0   584.0   535.0   2431.0  \n",
       "27998    294.0   163.0   182.0   4005.0  \n",
       "27999    209.0   112.0    84.0    992.0  \n",
       "\n",
       "[28000 rows x 256 columns]"
      ]
     },
     "execution_count": 1,
     "metadata": {},
     "output_type": "execute_result"
    }
   ],
   "source": [
    "import numpy as np\n",
    "import pandas as pd\n",
    "import matplotlib.pyplot as plt\n",
    "\n",
    "features = pd.read_csv('./part2/malware_data.csv', header=None)\n",
    "features"
   ]
  },
  {
   "cell_type": "code",
   "execution_count": 2,
   "id": "7a5ef390-6f71-44ca-9540-bc71aae4ab0c",
   "metadata": {
    "tags": []
   },
   "outputs": [
    {
     "data": {
      "text/plain": [
       "label     \n",
       "bladabindi    2000\n",
       "dealply       2000\n",
       "emotet        2000\n",
       "filetour      2000\n",
       "flystudio     2000\n",
       "gamarue       2000\n",
       "gandcrab      2000\n",
       "high          2000\n",
       "razy          2000\n",
       "startsurf     2000\n",
       "upatre        2000\n",
       "vittalia      2000\n",
       "wannacry      2000\n",
       "zbot          2000\n",
       "Name: count, dtype: int64"
      ]
     },
     "execution_count": 2,
     "metadata": {},
     "output_type": "execute_result"
    }
   ],
   "source": [
    "labels = pd.read_csv('./part2/malware_label.csv', header=None)\n",
    "labels = labels.drop(0, axis=1)\n",
    "labels = labels.rename(columns = {1:'label'})\n",
    "labels.value_counts()"
   ]
  },
  {
   "cell_type": "markdown",
   "id": "c0a83d05-dc33-4f1c-b710-1b71e9b10941",
   "metadata": {},
   "source": [
    "In this dataset, we have collected data from 28000 systems (rows), where each system reports 256 parameters (columns).\n",
    "\n",
    "We will first look at developing a small classifier \"by hand\", to help you understand how the classifier works, and then we will look at using the full dataset on more powerful classifiers to see whether we can classify the different malware varients on the set of workstations."
   ]
  },
  {
   "cell_type": "markdown",
   "id": "9ff8e267-58f8-41e3-ad4f-e7196bbdac3f",
   "metadata": {},
   "source": [
    "## Part 1: Developing a small classifier \"by hand\"\n",
    "\n",
    "### Do not modify this cell"
   ]
  },
  {
   "cell_type": "code",
   "execution_count": 3,
   "id": "a1fe3565-2249-4fbc-bf51-4d8d7478f03f",
   "metadata": {
    "tags": []
   },
   "outputs": [
    {
     "data": {
      "text/html": [
       "<div>\n",
       "<style scoped>\n",
       "    .dataframe tbody tr th:only-of-type {\n",
       "        vertical-align: middle;\n",
       "    }\n",
       "\n",
       "    .dataframe tbody tr th {\n",
       "        vertical-align: top;\n",
       "    }\n",
       "\n",
       "    .dataframe thead th {\n",
       "        text-align: right;\n",
       "    }\n",
       "</style>\n",
       "<table border=\"1\" class=\"dataframe\">\n",
       "  <thead>\n",
       "    <tr style=\"text-align: right;\">\n",
       "      <th></th>\n",
       "      <th>x</th>\n",
       "      <th>y</th>\n",
       "      <th>labels</th>\n",
       "    </tr>\n",
       "  </thead>\n",
       "  <tbody>\n",
       "    <tr>\n",
       "      <th>0</th>\n",
       "      <td>3114896.0</td>\n",
       "      <td>10815.0</td>\n",
       "      <td>wannacry</td>\n",
       "    </tr>\n",
       "    <tr>\n",
       "      <th>1</th>\n",
       "      <td>3436940.0</td>\n",
       "      <td>9551.0</td>\n",
       "      <td>wannacry</td>\n",
       "    </tr>\n",
       "    <tr>\n",
       "      <th>2</th>\n",
       "      <td>1812649.0</td>\n",
       "      <td>15343.0</td>\n",
       "      <td>wannacry</td>\n",
       "    </tr>\n",
       "    <tr>\n",
       "      <th>3</th>\n",
       "      <td>3067845.0</td>\n",
       "      <td>10541.0</td>\n",
       "      <td>wannacry</td>\n",
       "    </tr>\n",
       "    <tr>\n",
       "      <th>4</th>\n",
       "      <td>51591.0</td>\n",
       "      <td>21367.0</td>\n",
       "      <td>wannacry</td>\n",
       "    </tr>\n",
       "    <tr>\n",
       "      <th>...</th>\n",
       "      <td>...</td>\n",
       "      <td>...</td>\n",
       "      <td>...</td>\n",
       "    </tr>\n",
       "    <tr>\n",
       "      <th>145</th>\n",
       "      <td>78591.0</td>\n",
       "      <td>7734.0</td>\n",
       "      <td>razy</td>\n",
       "    </tr>\n",
       "    <tr>\n",
       "      <th>146</th>\n",
       "      <td>80429.0</td>\n",
       "      <td>5114.0</td>\n",
       "      <td>razy</td>\n",
       "    </tr>\n",
       "    <tr>\n",
       "      <th>147</th>\n",
       "      <td>2898.0</td>\n",
       "      <td>98.0</td>\n",
       "      <td>razy</td>\n",
       "    </tr>\n",
       "    <tr>\n",
       "      <th>148</th>\n",
       "      <td>183376.0</td>\n",
       "      <td>8477.0</td>\n",
       "      <td>razy</td>\n",
       "    </tr>\n",
       "    <tr>\n",
       "      <th>149</th>\n",
       "      <td>11580.0</td>\n",
       "      <td>5921.0</td>\n",
       "      <td>razy</td>\n",
       "    </tr>\n",
       "  </tbody>\n",
       "</table>\n",
       "<p>150 rows × 3 columns</p>\n",
       "</div>"
      ],
      "text/plain": [
       "             x        y    labels\n",
       "0    3114896.0  10815.0  wannacry\n",
       "1    3436940.0   9551.0  wannacry\n",
       "2    1812649.0  15343.0  wannacry\n",
       "3    3067845.0  10541.0  wannacry\n",
       "4      51591.0  21367.0  wannacry\n",
       "..         ...      ...       ...\n",
       "145    78591.0   7734.0      razy\n",
       "146    80429.0   5114.0      razy\n",
       "147     2898.0     98.0      razy\n",
       "148   183376.0   8477.0      razy\n",
       "149    11580.0   5921.0      razy\n",
       "\n",
       "[150 rows x 3 columns]"
      ]
     },
     "execution_count": 3,
     "metadata": {},
     "output_type": "execute_result"
    }
   ],
   "source": [
    "# DO NOT MODIFY THIS CELL\n",
    "mal1_index = 17000\n",
    "mal2_index = 21000\n",
    "mal3_index = 12000\n",
    "mal_range = 50\n",
    "mal_test_range = 30\n",
    "\n",
    "train_data = np.vstack([ features[mal1_index:mal1_index+mal_range][[0,1]].values, features[mal2_index:mal2_index+mal_range][[0,1]].values, features[mal3_index:mal3_index+mal_range][[0,1]].values ])\n",
    "train_data = pd.DataFrame(train_data)\n",
    "train_labels = np.vstack([ labels[mal1_index:mal1_index+mal_range].values, labels[mal2_index:mal2_index+mal_range].values, labels[mal3_index:mal3_index+mal_range].values ])\n",
    "train_labels = pd.DataFrame(train_labels)\n",
    "train_data['labels'] = train_labels\n",
    "train_data = train_data.rename(columns={0:'x', 1:'y'})\n",
    "\n",
    "test_data = np.vstack([ features[mal1_index+mal_range:mal1_index+mal_range+mal_test_range][[0,1]].values, features[mal2_index+mal_range:mal2_index+mal_range+mal_test_range][[0,1]].values, features[mal3_index+mal_range:mal3_index+mal_range+mal_test_range][[0,1]].values ])\n",
    "test_data = pd.DataFrame(test_data)\n",
    "test_labels = np.vstack([ labels[mal1_index+mal_range:mal1_index+mal_range+mal_test_range].values, labels[mal2_index+mal_range:mal2_index+mal_range+mal_test_range].values, labels[mal3_index+mal_range:mal3_index+mal_range+mal_test_range].values ])\n",
    "test_labels = pd.DataFrame(test_labels)\n",
    "test_data['labels'] = test_labels\n",
    "test_data = test_data.rename(columns={0:'x', 1:'y'})\n",
    "\n",
    "train_data"
   ]
  },
  {
   "cell_type": "markdown",
   "id": "94df4ee2-932d-4f69-be6b-5b4d3e2e8b6a",
   "metadata": {},
   "source": [
    "We now have a smaller sample of data to work with called train_data, that has three malware families included, and we have reduced the number of features to make it easier to understand the process of how the classifier operates."
   ]
  },
  {
   "cell_type": "markdown",
   "id": "46f572a8-6b9d-4e5f-8b6a-6d702bc60169",
   "metadata": {
    "tags": []
   },
   "source": [
    "### Question 1: Find the Centroid point of each of the three groups\n",
    "#### (2 marks)\n",
    "\n",
    "*Hint: We have filtered the sample to a new variable called **train_data**. Also, think about how to find the mid-point of a set of co-ordinate points **x** and **y**.*"
   ]
  },
  {
   "cell_type": "code",
   "execution_count": 4,
   "id": "c2f6f853-f739-4ec1-8eee-e399d54d7a94",
   "metadata": {
    "tags": []
   },
   "outputs": [
    {
     "name": "stdout",
     "output_type": "stream",
     "text": [
      "Wannacry:  (2181660.66, 11087.1)\n",
      "Razy:  (100505.22, 6158.28)\n",
      "Startsurf:  (478778.12, 3754.04)\n"
     ]
    }
   ],
   "source": [
    "# ANSWER\n",
    "\n",
    "wannacry_centroid = []\n",
    "razy_centroid = []\n",
    "startsurf_centroid = []\n",
    "\n",
    "########## ADD YOUR CODE HERE ##########\n",
    "\n",
    "# Calculating the  centroids for each group\n",
    "# For 'Wannacry' group\n",
    "wannacry_centroid = (\n",
    "    train_data[train_data['labels'] == 'wannacry']['x'].mean(),\n",
    "    train_data[train_data['labels'] == 'wannacry']['y'].mean()\n",
    ")\n",
    "\n",
    "# For 'Razy' group\n",
    "razy_centroid = (\n",
    "    train_data[train_data['labels'] == 'razy']['x'].mean(),\n",
    "    train_data[train_data['labels'] == 'razy']['y'].mean()\n",
    ")\n",
    "\n",
    "# For 'Startsurf' group\n",
    "startsurf_centroid = (\n",
    "    train_data[train_data['labels'] == 'startsurf']['x'].mean(),\n",
    "    train_data[train_data['labels'] == 'startsurf']['y'].mean()\n",
    ")\n",
    "\n",
    "print (\"Wannacry: \", wannacry_centroid) # print Wannacry output\n",
    "print (\"Razy: \", razy_centroid) # print Razy output\n",
    "print (\"Startsurf: \", startsurf_centroid) # print Startsurf output "
   ]
  },
  {
   "cell_type": "markdown",
   "id": "fb448bd6-ed24-4156-a2a7-b9eae1698249",
   "metadata": {},
   "source": [
    "### Question 2: Create a Scatter Plot that shows both the train data and the corresponding centroids. Colour-code your data by group, and use a different visual marker for the centroid.\n",
    "\n",
    "#### (2 marks)"
   ]
  },
  {
   "cell_type": "code",
   "execution_count": 5,
   "id": "8c9ae52a-2ec4-404f-abc9-a5ccf5678413",
   "metadata": {
    "tags": []
   },
   "outputs": [
    {
     "data": {
      "image/png": "[encoded data removed]",
      "text/plain": [
       "<Figure size 640x480 with 1 Axes>"
      ]
     },
     "metadata": {},
     "output_type": "display_data"
    }
   ],
   "source": [
    "# ANSWER\n",
    "######### ADD YOUR CODE HERE ##########\n",
    "import pandas as pd\n",
    "import matplotlib.pyplot as plt\n",
    "\n",
    "\n",
    "# Scatter plot of train data\n",
    "plt.scatter(train_data[train_data['labels'] == 'wannacry']['x'], train_data[train_data['labels'] == 'wannacry']['y'], c='blue', label='Wannacry')\n",
    "plt.scatter(train_data[train_data['labels'] == 'razy']['x'], train_data[train_data['labels'] == 'razy']['y'], c='green', label='Razy')\n",
    "plt.scatter(train_data[train_data['labels'] == 'startsurf']['x'], train_data[train_data['labels'] == 'startsurf']['y'], c='red', label='Startsurf')\n",
    "\n",
    "# Scatter plot of centroids\n",
    "plt.scatter(wannacry_centroid[0], wannacry_centroid[1], c='blue', marker='x', s=200, label='Wannacry Centroid')\n",
    "plt.scatter(razy_centroid[0], razy_centroid[1], c='green', marker='x', s=200, label='Razy Centroid')\n",
    "plt.scatter(startsurf_centroid[0], startsurf_centroid[1], c='red', marker='x', s=200, label='Startsurf Centroid')\n",
    "\n",
    "\n",
    "plt.xlabel('X-axis') # X axis \n",
    "plt.ylabel('Y-axis') # Y axis \n",
    "plt.title('Scatter Plot with Centroids') # Title of the graph\n",
    "\n",
    "# Show legend\n",
    "plt.legend()\n",
    "\n",
    "# Show the plot\n",
    "plt.show()\n"
   ]
  },
  {
   "cell_type": "markdown",
   "id": "a1bd3c3c-ef69-412a-aa7b-da9663516110",
   "metadata": {},
   "source": [
    "### Question 3a: For each point in test_data, calculate the Euclidean distance between the point and each of the three centroid points \n",
    "\n",
    "#### (3 marks)\n",
    "\n",
    "### Question 3b: Use the closest centroid to assign membership and compare against the test data label to obtain a score of successful classifications \n",
    "\n",
    "#### (3 marks)\n",
    "\n",
    "*Hint: You may find the clustering activity worksheet helpful for how to approach this task, and you will likely want to answer both questions within the same for loop below.*"
   ]
  },
  {
   "cell_type": "code",
   "execution_count": 6,
   "id": "46ca9ae6-9813-4d78-bd14-5d27c04a95e6",
   "metadata": {
    "tags": []
   },
   "outputs": [
    {
     "name": "stdout",
     "output_type": "stream",
     "text": [
      "Score: 63\n"
     ]
    }
   ],
   "source": [
    "# Initialize the score counter\n",
    "score = 0\n",
    "\n",
    "# Loop through each point in the test_data\n",
    "for i in range(test_data.shape[0]):\n",
    "    ######### Question 3a - CALCULATE DISTANCES ##########\n",
    "    \n",
    "    # Defining a function to calculate Euclidean distance between two points\n",
    "    def euclidean_distance(point1, point2):\n",
    "        return np.sqrt((point1[0] - point2[0])**2 + (point1[1] - point2[1])**2)\n",
    "\n",
    "    # Calculate distances from the current point to each centroid\n",
    "    distance1 = euclidean_distance((test_data.loc[i, 'x'], test_data.loc[i, 'y']), wannacry_centroid)\n",
    "    distance2 = euclidean_distance((test_data.loc[i, 'x'], test_data.loc[i, 'y']), razy_centroid)\n",
    "    distance3 = euclidean_distance((test_data.loc[i, 'x'], test_data.loc[i, 'y']), startsurf_centroid)\n",
    "\n",
    "    # Storing distances and corresponding centroid labels\n",
    "    distances = [distance1, distance2, distance3]\n",
    "    dist_labels = ['wannacry', 'razy', 'startsurf']\n",
    "\n",
    "    ######### Question 3b - FIND CLOSEST CENTROID ##########\n",
    "    \n",
    "    # Finding the label of the closest centroid based on distances\n",
    "    closest_label = min(zip(distances, dist_labels))[1]\n",
    "\n",
    "    # Assigning the predicted label to the test_data DataFrame\n",
    "    test_data.at[i, 'predicted_label'] = closest_label\n",
    "\n",
    "    # Checking if the predicted label matches the actual label and update the score\n",
    "    if test_data.at[i, 'labels'] == closest_label:\n",
    "        score += 1\n",
    "\n",
    "# Calculate and print the final score\n",
    "print(\"Score:\", score)\n"
   ]
  },
  {
   "cell_type": "markdown",
   "id": "f6eb3db1-3367-4d8b-a985-b182dc8e606a",
   "metadata": {},
   "source": [
    "### Task 4: Provide a final accuracy score for the performance of your \"by hand\" classifier \n",
    "\n",
    "#### (1 marks)"
   ]
  },
  {
   "cell_type": "code",
   "execution_count": 7,
   "id": "ae78f86b-ccf3-4337-87ed-8403e6b14834",
   "metadata": {
    "tags": []
   },
   "outputs": [
    {
     "name": "stdout",
     "output_type": "stream",
     "text": [
      "Final Accuracy Score: 70.0%\n"
     ]
    }
   ],
   "source": [
    "#ANSWER\n",
    "\n",
    "# Calculate the final accuracy score\n",
    "accuracy_score = (score / test_data.shape[0]) * 100\n",
    "\n",
    "# Print the final accuracy score\n",
    "print(f\"Final Accuracy Score: {accuracy_score}%\")\n"
   ]
  },
  {
   "cell_type": "markdown",
   "id": "781e358d-c498-432f-a914-d49df3c026c9",
   "metadata": {},
   "source": [
    "## Part 2: Developing a large-scale ML classifier\n",
    "\n",
    "We will now extend the earlier principles for the full dataset. Essentially the task is the same, we want to find the parameters that allow us to clearly separate groups for classification. You will want to consult the [scikit-learn documentation](https://scikit-learn.org/stable/index.html) to answer the following questions."
   ]
  },
  {
   "cell_type": "markdown",
   "id": "da1cccd8-2c31-4b5f-a4cd-9070524a1a42",
   "metadata": {
    "tags": []
   },
   "source": [
    "### Question 5: Scale the Features DataFrame using the StandardScaler function \n",
    "\n",
    "#### (1 mark)\n",
    "\n",
    "*Hint: The variable **features** contains all of the numerical parameters that we will use to train our ML model, which we need to normalise using this function.*"
   ]
  },
  {
   "cell_type": "code",
   "execution_count": 8,
   "id": "e802b24b-7b3a-4805-9692-deedf554ad20",
   "metadata": {
    "tags": []
   },
   "outputs": [
    {
     "name": "stdout",
     "output_type": "stream",
     "text": [
      "Scaled Features:\n",
      "            0         1         2         3         4         5         6    \\\n",
      "0     -0.097820  0.672159  0.826630  0.380661  0.647650  0.204495  0.792002   \n",
      "1     -0.355085 -0.291567 -0.274569 -0.254820 -0.323318 -0.234858 -0.178266   \n",
      "2     -0.351784  0.379844  0.241558  0.279985  0.178160  0.423038  0.259812   \n",
      "3     -0.373671 -0.408634 -0.418818 -0.451310 -0.434547 -0.405185 -0.364900   \n",
      "4     -0.375965 -0.363170 -0.384699 -0.382059 -0.402040 -0.327008 -0.317989   \n",
      "...         ...       ...       ...       ...       ...       ...       ...   \n",
      "27995 -0.352491 -0.336398 -0.325344 -0.181181 -0.350134 -0.310013 -0.325062   \n",
      "27996 -0.370966 -0.366824 -0.385103 -0.385023 -0.349013 -0.335946 -0.331268   \n",
      "27997 -0.350581 -0.379613 -0.382378 -0.165528 -0.353755 -0.320840  0.157763   \n",
      "27998 -0.345952  0.014028 -0.184426  0.140058 -0.240888  0.139788 -0.144634   \n",
      "27999 -0.376427 -0.428028 -0.476659 -0.484395 -0.473175 -0.427216 -0.450062   \n",
      "\n",
      "            7         8         9    ...       246       247       248  \\\n",
      "0      0.691117  1.028243  0.432558  ...  0.191715  0.044177  0.845365   \n",
      "1     -0.244002 -0.310024 -0.182924  ... -0.155188 -0.155994 -0.248598   \n",
      "2      0.314504  0.202153  1.361289  ...  0.543863  0.536584  0.422895   \n",
      "3     -0.422724 -0.506936 -0.419373  ... -0.411219 -0.363332 -0.464176   \n",
      "4     -0.328030 -0.433797 -0.295563  ... -0.278888 -0.254445 -0.370648   \n",
      "...         ...       ...       ...  ...       ...       ...       ...   \n",
      "27995 -0.313473 -0.423691 -0.299442  ... -0.268735 -0.255535 -0.338796   \n",
      "27996 -0.307131 -0.425046 -0.306423  ... -0.267889 -0.264414 -0.364133   \n",
      "27997 -0.320967 -0.417336 -0.284857  ... -0.341500 -0.319559 -0.366449   \n",
      "27998  0.122522 -0.272205  0.131877  ... -0.400050 -0.383582 -0.428705   \n",
      "27999 -0.453856 -0.517146 -0.430544  ... -0.428310 -0.396823 -0.390193   \n",
      "\n",
      "            249       250       251       252       253       254       255  \n",
      "0     -0.010620  0.038420  0.068183  1.190714  0.135741  0.178144  0.406173  \n",
      "1     -0.175093 -0.166129 -0.179846 -0.248456 -0.168900 -0.218099 -0.238666  \n",
      "2      0.475873  0.359192  0.384618  0.260011  0.210779  0.192024 -0.230729  \n",
      "3     -0.352293 -0.315456 -0.353466 -0.429556 -0.312311 -0.303149 -0.268583  \n",
      "4     -0.250806 -0.230890 -0.258994 -0.365838 -0.264363 -0.302941 -0.268201  \n",
      "...         ...       ...       ...       ...       ...       ...       ...  \n",
      "27995 -0.231958 -0.176103 -0.132452 -0.330864 -0.255961 -0.264016 -0.243465  \n",
      "27996 -0.232280 -0.223518 -0.277794 -0.373201 -0.265666 -0.299393 -0.258211  \n",
      "27997 -0.285923 -0.283654 -0.309548 -0.408175 -0.310138 -0.345414 -0.260450  \n",
      "27998 -0.362280 -0.344223 -0.387274 -0.459574 -0.371125 -0.382252 -0.246461  \n",
      "27999 -0.221004 -0.342199 -0.399596 -0.471610 -0.378512 -0.392479 -0.273240  \n",
      "\n",
      "[28000 rows x 256 columns]\n"
     ]
    }
   ],
   "source": [
    "# ANSWER\n",
    "\n",
    "from sklearn.preprocessing import StandardScaler\n",
    "\n",
    "# Initializing the StandardScaler\n",
    "scaler = StandardScaler()\n",
    "\n",
    "# Fit and transform the features DataFrame\n",
    "scaled_features = scaler.fit_transform(features)\n",
    "\n",
    "# Creating a new DataFrame with the scaled features\n",
    "scaled_features_df = pd.DataFrame(scaled_features, columns=features.columns)\n",
    "\n",
    "# Display the scaled features DataFrame\n",
    "print(\"Scaled Features:\")\n",
    "print(scaled_features_df)\n"
   ]
  },
  {
   "cell_type": "markdown",
   "id": "76ac4ee4-46e1-479c-bea3-80e008764548",
   "metadata": {},
   "source": [
    "### Question 6: Use the LabelEncoder function on the Labels variable to obtain numerical label data \n",
    "\n",
    "#### (1 mark)"
   ]
  },
  {
   "cell_type": "code",
   "execution_count": 9,
   "id": "7e0dd9b8-10ef-4ed8-9b68-fca343aed6c0",
   "metadata": {
    "tags": []
   },
   "outputs": [
    {
     "name": "stdout",
     "output_type": "stream",
     "text": [
      "Numerical Labels:\n",
      "[ 7  7  7 ... 13 13 13]\n"
     ]
    },
    {
     "name": "stderr",
     "output_type": "stream",
     "text": [
      "C:\\Users\\Beast\\anaconda3\\Lib\\site-packages\\sklearn\\preprocessing\\_label.py:114: DataConversionWarning: A column-vector y was passed when a 1d array was expected. Please change the shape of y to (n_samples, ), for example using ravel().\n",
      "  y = column_or_1d(y, warn=True)\n"
     ]
    }
   ],
   "source": [
    "# ANSWER\n",
    "\n",
    "######### ADD YOUR CODE HERE ##########\n",
    "# Importing the LabelEncoder function from sklearn\n",
    "from sklearn.preprocessing import LabelEncoder\n",
    "\n",
    "# Creating a LabelEncoder instance\n",
    "label_encoder = LabelEncoder()\n",
    "\n",
    "# Converting categorical labels to numerical representation\n",
    "numerical_labels = label_encoder.fit_transform(labels)\n",
    "\n",
    "# Displaying the numerical labels\n",
    "print(\"Numerical Labels:\")\n",
    "print(numerical_labels)\n",
    "\n"
   ]
  },
  {
   "cell_type": "markdown",
   "id": "9cf7f3f6-4ecf-4cc7-82ba-06e5d904a2ad",
   "metadata": {},
   "source": [
    "### Question 7: Prepare the dataset for ML testing using the Train-Test-Split function\n",
    "#### (1 mark)"
   ]
  },
  {
   "cell_type": "code",
   "execution_count": 10,
   "id": "63002e79-09ef-49d2-81bc-503044e61188",
   "metadata": {
    "tags": []
   },
   "outputs": [
    {
     "name": "stdout",
     "output_type": "stream",
     "text": [
      "Training set shapes - Features: (22400, 256) X_Train: 22400\n",
      "Testing set shapes - Features: (5600, 256) X_test: 5600\n"
     ]
    }
   ],
   "source": [
    "# ANSWER\n",
    "\n",
    "# Importing the train_test_split function from sklearn\n",
    "from sklearn.model_selection import train_test_split\n",
    "\n",
    "\n",
    "# Splitting  the dataset into training and testing sets\n",
    "# 80% of the data will be used for training, and 20% for testing\n",
    "X_train, X_test, y_train, y_test = train_test_split(features, numerical_labels, test_size=0.2, random_state=42)\n",
    "\n",
    "# Displaying the shapes of the resulting sets\n",
    "print(\"Training set shapes - Features:\", X_train.shape, \"X_Train:\", len(y_train))\n",
    "print(\"Testing set shapes - Features:\", X_test.shape, \"X_test:\", len(y_test))\n",
    "\n"
   ]
  },
  {
   "cell_type": "markdown",
   "id": "37e9c20d-c71e-4760-a8b6-84a1cf4980de",
   "metadata": {
    "tags": []
   },
   "source": [
    "### Question 8: Use a Multi-Layer Perceptron (MLP) classifier to train a machine learning model, and obtain the accuracy score against your test data. \n",
    "\n",
    "#### (3 marks)"
   ]
  },
  {
   "cell_type": "code",
   "execution_count": 11,
   "id": "f61a4a16-f795-411e-811d-921f3e1508ea",
   "metadata": {
    "tags": []
   },
   "outputs": [
    {
     "name": "stdout",
     "output_type": "stream",
     "text": [
      "Accuracy Score: 0.1455357142857143\n"
     ]
    }
   ],
   "source": [
    "from sklearn.neural_network import MLPClassifier\n",
    "from sklearn.metrics import accuracy_score\n",
    "\n",
    "# Creating an instance of the MLPClassifier with adjusted hyperparameters\n",
    "mlp_classifier = MLPClassifier(hidden_layer_sizes=(100 ), max_iter=2000, random_state=42)\n",
    "\n",
    "# Training the model on the training data\n",
    "mlp_classifier.fit(X_train, y_train)\n",
    "\n",
    "# Predicting labels for the test data\n",
    "y_pred = mlp_classifier.predict(X_test)\n",
    "\n",
    "# Calculating the accuracy score\n",
    "accuracy = accuracy_score(y_test, y_pred)\n",
    "\n",
    "# Printing the accuracy score\n",
    "print(\"Accuracy Score:\", accuracy)\n"
   ]
  },
  {
   "cell_type": "markdown",
   "id": "d87f6d51-7cb1-46f6-a1fe-f46310e7ee6f",
   "metadata": {},
   "source": [
    "### Question 9: Use a Random Forest (RF) classifier to train a machine learning model, and obtain the accuracy score against your test data. \n",
    "\n",
    "#### (3 marks)"
   ]
  },
  {
   "cell_type": "code",
   "execution_count": 15,
   "id": "4f910264-b22d-41ae-986a-7ace58561681",
   "metadata": {
    "tags": []
   },
   "outputs": [
    {
     "name": "stdout",
     "output_type": "stream",
     "text": [
      "Random Forest Accuracy Score: 0.8769642857142858\n"
     ]
    }
   ],
   "source": [
    "# ANSWER\n",
    "\n",
    "# Import necessary libraries\n",
    "from sklearn.ensemble import RandomForestClassifier\n",
    "from sklearn.metrics import accuracy_score\n",
    "\n",
    "# Creating a Random Forest classifier\n",
    "rf_classifier = RandomForestClassifier(random_state=42)\n",
    "\n",
    "# Training the classifier using the training data\n",
    "rf_classifier.fit(X_train, y_train)\n",
    "\n",
    "# Predicting labels for the test data\n",
    "y_pred_rf = rf_classifier.predict(X_test)\n",
    "\n",
    "# Calculating accuracy score\n",
    "accuracy_rf = accuracy_score(y_test, y_pred_rf)\n",
    "\n",
    "# Printing the accuracy score for Random Forest\n",
    "print(\"Random Forest Accuracy Score:\", accuracy_rf) \n"
   ]
  },
  {
   "cell_type": "markdown",
   "id": "820a469c-813b-408b-a78f-86b44c45c12f",
   "metadata": {},
   "source": [
    "### Question 10: Describe what you believe are the key findings of this task, comparing the *by-hand* classifier with the MLP classifier. As part of your discussion, consider the volume of data in both approaches and the issues of data separability. Give justifications for your answer. Limit your response to a maximum of 300 words.\n",
    "\n",
    "#### (10 marks)."
   ]
  },
  {
   "cell_type": "markdown",
   "id": "fdb4d548-4b3b-4116-9e1e-8cdf54891c9e",
   "metadata": {},
   "source": [
    "With 70% accuracy vs the MLP classifier's 14.55%, the by-hand classifier performed better than the MLP classifier. On this dataset, the by-hand technique proved effective despite its simplicity. Since it calculates the distances for every point separately, it might not be as effective with big datasets. On the other hand, the MLP classifier performed poorly in this situation despite processing the complete dataset at once.\n",
    "\n",
    "\n",
    "The by-hand classifier is a good fit for this assignment because its performance indicates clear patterns in the data. The MLP's subpar performance raises the possibility of non-linearities or other complexities in the data, suggesting that the model parameters used may not have been the best ones.\n",
    "\n",
    "\n",
    "The by-hand approach, which depends on clear-cut distance estimates and simple rules, is transparent and easy to understand. On the other hand, the MLP classifier's complex neural network architecture makes it difficult to understand.\n",
    "\n",
    "In conclusion, the by-hand classifier's success with this dataset highlights how crucial it is to comprehend the characteristics of the data. The limitations of the MLP highlight the necessity of carefully selecting a model and fine-tuning its parameters to account for the complexity of the input. These results highlight the need to strike a balance between model complexity, interpretability, and simplicity in order to produce precise and intelligible outcomes.\n",
    "\n",
    "\n"
   ]
  }
 ],
 "metadata": {
  "kernelspec": {
   "display_name": "Python 3 (ipykernel)",
   "language": "python",
   "name": "python3"
  },
  "language_info": {
   "codemirror_mode": {
    "name": "ipython",
    "version": 3
   },
   "file_extension": ".py",
   "mimetype": "text/x-python",
   "name": "python",
   "nbconvert_exporter": "python",
   "pygments_lexer": "ipython3",
   "version": "3.11.5"
  }
 },
 "nbformat": 4,
 "nbformat_minor": 5
}
